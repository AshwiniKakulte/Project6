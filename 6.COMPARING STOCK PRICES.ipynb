{
 "cells": [
  {
   "cell_type": "markdown",
   "id": "7fe303f9",
   "metadata": {},
   "source": [
    "### 6.COMPARING STOCK PRICES\n",
    "Write a program that compares the stock prices of APPLE, GOOGLE, MICROSOFT, and AMAZON. The program should retrieve the current stock prices of each company and calculate the percentage change in stock prices over a specified period. The program should display the percentage change in stock prices for each company and identify which company's stocks are performing the best.\n",
    "Additionally, the program should retrieve historical stock prices for each company and analyze any trends or patterns in the data.\n",
    "\n",
    "Note: Use pandas\n",
    "_datareader library to\n",
    "load the dataset of given companies"
   ]
  },
  {
   "cell_type": "code",
   "execution_count": 3,
   "id": "8755e3ba",
   "metadata": {},
   "outputs": [],
   "source": [
    "import pandas as pd \n",
    "import numpy as np"
   ]
  },
  {
   "cell_type": "code",
   "execution_count": 4,
   "id": "6a67ea48",
   "metadata": {},
   "outputs": [
    {
     "name": "stdout",
     "output_type": "stream",
     "text": [
      "Requirement already satisfied: yfinance in c:\\users\\ashwini\\anaconda3\\lib\\site-packages (0.2.21)\n",
      "Requirement already satisfied: numpy>=1.16.5 in c:\\users\\ashwini\\anaconda3\\lib\\site-packages (from yfinance) (1.21.5)\n",
      "Requirement already satisfied: pandas>=1.3.0 in c:\\users\\ashwini\\anaconda3\\lib\\site-packages (from yfinance) (1.4.4)\n",
      "Requirement already satisfied: frozendict>=2.3.4 in c:\\users\\ashwini\\anaconda3\\lib\\site-packages (from yfinance) (2.3.8)\n",
      "Requirement already satisfied: html5lib>=1.1 in c:\\users\\ashwini\\anaconda3\\lib\\site-packages (from yfinance) (1.1)\n",
      "Requirement already satisfied: pytz>=2022.5 in c:\\users\\ashwini\\anaconda3\\lib\\site-packages (from yfinance) (2023.3)\n",
      "Requirement already satisfied: lxml>=4.9.1 in c:\\users\\ashwini\\anaconda3\\lib\\site-packages (from yfinance) (4.9.1)\n",
      "Requirement already satisfied: requests>=2.26 in c:\\users\\ashwini\\anaconda3\\lib\\site-packages (from yfinance) (2.28.1)\n",
      "Requirement already satisfied: appdirs>=1.4.4 in c:\\users\\ashwini\\anaconda3\\lib\\site-packages (from yfinance) (1.4.4)\n",
      "Requirement already satisfied: beautifulsoup4>=4.11.1 in c:\\users\\ashwini\\anaconda3\\lib\\site-packages (from yfinance) (4.11.1)\n",
      "Requirement already satisfied: multitasking>=0.0.7 in c:\\users\\ashwini\\anaconda3\\lib\\site-packages (from yfinance) (0.0.11)\n",
      "Requirement already satisfied: soupsieve>1.2 in c:\\users\\ashwini\\anaconda3\\lib\\site-packages (from beautifulsoup4>=4.11.1->yfinance) (2.3.1)\n",
      "Requirement already satisfied: six>=1.9 in c:\\users\\ashwini\\anaconda3\\lib\\site-packages (from html5lib>=1.1->yfinance) (1.16.0)\n",
      "Requirement already satisfied: webencodings in c:\\users\\ashwini\\anaconda3\\lib\\site-packages (from html5lib>=1.1->yfinance) (0.5.1)\n",
      "Requirement already satisfied: python-dateutil>=2.8.1 in c:\\users\\ashwini\\anaconda3\\lib\\site-packages (from pandas>=1.3.0->yfinance) (2.8.2)\n",
      "Requirement already satisfied: urllib3<1.27,>=1.21.1 in c:\\users\\ashwini\\anaconda3\\lib\\site-packages (from requests>=2.26->yfinance) (1.26.11)\n",
      "Requirement already satisfied: certifi>=2017.4.17 in c:\\users\\ashwini\\anaconda3\\lib\\site-packages (from requests>=2.26->yfinance) (2022.9.14)\n",
      "Requirement already satisfied: charset-normalizer<3,>=2 in c:\\users\\ashwini\\anaconda3\\lib\\site-packages (from requests>=2.26->yfinance) (2.0.4)\n",
      "Requirement already satisfied: idna<4,>=2.5 in c:\\users\\ashwini\\anaconda3\\lib\\site-packages (from requests>=2.26->yfinance) (3.3)\n",
      "Note: you may need to restart the kernel to use updated packages.\n"
     ]
    }
   ],
   "source": [
    "pip install yfinance"
   ]
  },
  {
   "cell_type": "code",
   "execution_count": 5,
   "id": "8921b453",
   "metadata": {},
   "outputs": [],
   "source": [
    "import yfinance as yf\n",
    "from pandas_datareader import data as dr"
   ]
  },
  {
   "cell_type": "code",
   "execution_count": 6,
   "id": "0d2ae58a",
   "metadata": {},
   "outputs": [],
   "source": [
    "from datetime import datetime\n",
    "import numpy as np\n",
    "import matplotlib.pyplot as plt\n",
    "%matplotlib inline\n"
   ]
  },
  {
   "cell_type": "code",
   "execution_count": 7,
   "id": "83927756",
   "metadata": {},
   "outputs": [],
   "source": [
    "yf.pdr_override()"
   ]
  },
  {
   "cell_type": "code",
   "execution_count": 8,
   "id": "9b4c7dc9",
   "metadata": {},
   "outputs": [],
   "source": [
    "end = datetime.now()\n",
    "start = datetime(end.year - 3, end.month, end.day)"
   ]
  },
  {
   "cell_type": "code",
   "execution_count": 14,
   "id": "08445ac0",
   "metadata": {},
   "outputs": [
    {
     "name": "stdout",
     "output_type": "stream",
     "text": [
      "[*********************100%***********************]  1 of 1 completed\n",
      "[*********************100%***********************]  1 of 1 completed\n",
      "[*********************100%***********************]  1 of 1 completed\n",
      "[*********************100%***********************]  1 of 1 completed\n",
      "[*********************100%***********************]  1 of 1 completed\n"
     ]
    },
    {
     "data": {
      "text/html": [
       "<div>\n",
       "<style scoped>\n",
       "    .dataframe tbody tr th:only-of-type {\n",
       "        vertical-align: middle;\n",
       "    }\n",
       "\n",
       "    .dataframe tbody tr th {\n",
       "        vertical-align: top;\n",
       "    }\n",
       "\n",
       "    .dataframe thead th {\n",
       "        text-align: right;\n",
       "    }\n",
       "</style>\n",
       "<table border=\"1\" class=\"dataframe\">\n",
       "  <thead>\n",
       "    <tr style=\"text-align: right;\">\n",
       "      <th></th>\n",
       "      <th>Open</th>\n",
       "      <th>High</th>\n",
       "      <th>Low</th>\n",
       "      <th>Close</th>\n",
       "      <th>Adj Close</th>\n",
       "      <th>Volume</th>\n",
       "      <th>company_name</th>\n",
       "    </tr>\n",
       "    <tr>\n",
       "      <th>Date</th>\n",
       "      <th></th>\n",
       "      <th></th>\n",
       "      <th></th>\n",
       "      <th></th>\n",
       "      <th></th>\n",
       "      <th></th>\n",
       "      <th></th>\n",
       "    </tr>\n",
       "  </thead>\n",
       "  <tbody>\n",
       "    <tr>\n",
       "      <th>2020-07-29</th>\n",
       "      <td>100.066666</td>\n",
       "      <td>102.320663</td>\n",
       "      <td>99.133331</td>\n",
       "      <td>99.940666</td>\n",
       "      <td>99.940666</td>\n",
       "      <td>141403500</td>\n",
       "      <td>TESLA</td>\n",
       "    </tr>\n",
       "    <tr>\n",
       "      <th>2020-07-30</th>\n",
       "      <td>99.199997</td>\n",
       "      <td>100.882668</td>\n",
       "      <td>98.066666</td>\n",
       "      <td>99.166000</td>\n",
       "      <td>99.166000</td>\n",
       "      <td>114315000</td>\n",
       "      <td>TESLA</td>\n",
       "    </tr>\n",
       "    <tr>\n",
       "      <th>2020-07-31</th>\n",
       "      <td>101.000000</td>\n",
       "      <td>101.136665</td>\n",
       "      <td>94.732002</td>\n",
       "      <td>95.384003</td>\n",
       "      <td>95.384003</td>\n",
       "      <td>183123000</td>\n",
       "      <td>TESLA</td>\n",
       "    </tr>\n",
       "    <tr>\n",
       "      <th>2020-08-03</th>\n",
       "      <td>96.613335</td>\n",
       "      <td>100.653999</td>\n",
       "      <td>96.292000</td>\n",
       "      <td>99.000000</td>\n",
       "      <td>99.000000</td>\n",
       "      <td>132139500</td>\n",
       "      <td>TESLA</td>\n",
       "    </tr>\n",
       "    <tr>\n",
       "      <th>2020-08-04</th>\n",
       "      <td>99.667336</td>\n",
       "      <td>101.827332</td>\n",
       "      <td>97.466667</td>\n",
       "      <td>99.133331</td>\n",
       "      <td>99.133331</td>\n",
       "      <td>126225000</td>\n",
       "      <td>TESLA</td>\n",
       "    </tr>\n",
       "  </tbody>\n",
       "</table>\n",
       "</div>"
      ],
      "text/plain": [
       "                  Open        High        Low      Close  Adj Close  \\\n",
       "Date                                                                  \n",
       "2020-07-29  100.066666  102.320663  99.133331  99.940666  99.940666   \n",
       "2020-07-30   99.199997  100.882668  98.066666  99.166000  99.166000   \n",
       "2020-07-31  101.000000  101.136665  94.732002  95.384003  95.384003   \n",
       "2020-08-03   96.613335  100.653999  96.292000  99.000000  99.000000   \n",
       "2020-08-04   99.667336  101.827332  97.466667  99.133331  99.133331   \n",
       "\n",
       "               Volume company_name  \n",
       "Date                                \n",
       "2020-07-29  141403500        TESLA  \n",
       "2020-07-30  114315000        TESLA  \n",
       "2020-07-31  183123000        TESLA  \n",
       "2020-08-03  132139500        TESLA  \n",
       "2020-08-04  126225000        TESLA  "
      ]
     },
     "execution_count": 14,
     "metadata": {},
     "output_type": "execute_result"
    }
   ],
   "source": [
    "tech_list = ['TSLA','AAPL', 'GOOG', 'MSFT', 'AMZN'] # You can choose any company of your choice\n",
    "\n",
    "for stock in tech_list:\n",
    "    globals()[stock] = yf.download(stock, start, end)\n",
    "   \n",
    "\n",
    "company_list = [TSLA,AAPL, GOOG, MSFT, AMZN]\n",
    "company_name = [\"TESLA\",\"APPLE\", \"GOOGLE\", \"MICROSOFT\", \"AMAZON\"]\n",
    "\n",
    "for company, com_name in zip(company_list, company_name):\n",
    "    company[\"company_name\"] = com_name\n",
    "   \n",
    "df = pd.concat(company_list, axis=0)\n",
    "\n",
    "df.head()"
   ]
  },
  {
   "cell_type": "code",
   "execution_count": 15,
   "id": "43b5506b",
   "metadata": {},
   "outputs": [],
   "source": [
    "for company, com_name in zip(company_list, company_name):\n",
    "    company[\"company_name\"] = com_name"
   ]
  },
  {
   "cell_type": "code",
   "execution_count": 16,
   "id": "f389b534",
   "metadata": {},
   "outputs": [
    {
     "data": {
      "text/html": [
       "<div>\n",
       "<style scoped>\n",
       "    .dataframe tbody tr th:only-of-type {\n",
       "        vertical-align: middle;\n",
       "    }\n",
       "\n",
       "    .dataframe tbody tr th {\n",
       "        vertical-align: top;\n",
       "    }\n",
       "\n",
       "    .dataframe thead th {\n",
       "        text-align: right;\n",
       "    }\n",
       "</style>\n",
       "<table border=\"1\" class=\"dataframe\">\n",
       "  <thead>\n",
       "    <tr style=\"text-align: right;\">\n",
       "      <th></th>\n",
       "      <th>Open</th>\n",
       "      <th>High</th>\n",
       "      <th>Low</th>\n",
       "      <th>Close</th>\n",
       "      <th>Adj Close</th>\n",
       "      <th>Volume</th>\n",
       "      <th>company_name</th>\n",
       "    </tr>\n",
       "    <tr>\n",
       "      <th>Date</th>\n",
       "      <th></th>\n",
       "      <th></th>\n",
       "      <th></th>\n",
       "      <th></th>\n",
       "      <th></th>\n",
       "      <th></th>\n",
       "      <th></th>\n",
       "    </tr>\n",
       "  </thead>\n",
       "  <tbody>\n",
       "    <tr>\n",
       "      <th>2020-07-29</th>\n",
       "      <td>100.066666</td>\n",
       "      <td>102.320663</td>\n",
       "      <td>99.133331</td>\n",
       "      <td>99.940666</td>\n",
       "      <td>99.940666</td>\n",
       "      <td>141403500</td>\n",
       "      <td>TESLA</td>\n",
       "    </tr>\n",
       "    <tr>\n",
       "      <th>2020-07-30</th>\n",
       "      <td>99.199997</td>\n",
       "      <td>100.882668</td>\n",
       "      <td>98.066666</td>\n",
       "      <td>99.166000</td>\n",
       "      <td>99.166000</td>\n",
       "      <td>114315000</td>\n",
       "      <td>TESLA</td>\n",
       "    </tr>\n",
       "    <tr>\n",
       "      <th>2020-07-31</th>\n",
       "      <td>101.000000</td>\n",
       "      <td>101.136665</td>\n",
       "      <td>94.732002</td>\n",
       "      <td>95.384003</td>\n",
       "      <td>95.384003</td>\n",
       "      <td>183123000</td>\n",
       "      <td>TESLA</td>\n",
       "    </tr>\n",
       "    <tr>\n",
       "      <th>2020-08-03</th>\n",
       "      <td>96.613335</td>\n",
       "      <td>100.653999</td>\n",
       "      <td>96.292000</td>\n",
       "      <td>99.000000</td>\n",
       "      <td>99.000000</td>\n",
       "      <td>132139500</td>\n",
       "      <td>TESLA</td>\n",
       "    </tr>\n",
       "    <tr>\n",
       "      <th>2020-08-04</th>\n",
       "      <td>99.667336</td>\n",
       "      <td>101.827332</td>\n",
       "      <td>97.466667</td>\n",
       "      <td>99.133331</td>\n",
       "      <td>99.133331</td>\n",
       "      <td>126225000</td>\n",
       "      <td>TESLA</td>\n",
       "    </tr>\n",
       "  </tbody>\n",
       "</table>\n",
       "</div>"
      ],
      "text/plain": [
       "                  Open        High        Low      Close  Adj Close  \\\n",
       "Date                                                                  \n",
       "2020-07-29  100.066666  102.320663  99.133331  99.940666  99.940666   \n",
       "2020-07-30   99.199997  100.882668  98.066666  99.166000  99.166000   \n",
       "2020-07-31  101.000000  101.136665  94.732002  95.384003  95.384003   \n",
       "2020-08-03   96.613335  100.653999  96.292000  99.000000  99.000000   \n",
       "2020-08-04   99.667336  101.827332  97.466667  99.133331  99.133331   \n",
       "\n",
       "               Volume company_name  \n",
       "Date                                \n",
       "2020-07-29  141403500        TESLA  \n",
       "2020-07-30  114315000        TESLA  \n",
       "2020-07-31  183123000        TESLA  \n",
       "2020-08-03  132139500        TESLA  \n",
       "2020-08-04  126225000        TESLA  "
      ]
     },
     "execution_count": 16,
     "metadata": {},
     "output_type": "execute_result"
    }
   ],
   "source": [
    "df = pd.concat(company_list, axis=0)\n",
    "\n",
    "df.head()"
   ]
  },
  {
   "cell_type": "code",
   "execution_count": 17,
   "id": "80a82518",
   "metadata": {},
   "outputs": [
    {
     "name": "stdout",
     "output_type": "stream",
     "text": [
      "<class 'pandas.core.frame.DataFrame'>\n",
      "DatetimeIndex: 3775 entries, 2020-07-29 to 2023-07-28\n",
      "Data columns (total 7 columns):\n",
      " #   Column        Non-Null Count  Dtype  \n",
      "---  ------        --------------  -----  \n",
      " 0   Open          3775 non-null   float64\n",
      " 1   High          3775 non-null   float64\n",
      " 2   Low           3775 non-null   float64\n",
      " 3   Close         3775 non-null   float64\n",
      " 4   Adj Close     3775 non-null   float64\n",
      " 5   Volume        3775 non-null   int64  \n",
      " 6   company_name  3775 non-null   object \n",
      "dtypes: float64(5), int64(1), object(1)\n",
      "memory usage: 235.9+ KB\n"
     ]
    }
   ],
   "source": [
    "df.info()"
   ]
  },
  {
   "cell_type": "code",
   "execution_count": 18,
   "id": "178c5b8c",
   "metadata": {
    "scrolled": false
   },
   "outputs": [
    {
     "data": {
      "text/plain": [
       "Open            0\n",
       "High            0\n",
       "Low             0\n",
       "Close           0\n",
       "Adj Close       0\n",
       "Volume          0\n",
       "company_name    0\n",
       "dtype: int64"
      ]
     },
     "execution_count": 18,
     "metadata": {},
     "output_type": "execute_result"
    }
   ],
   "source": [
    "df.isnull().sum()"
   ]
  },
  {
   "cell_type": "markdown",
   "id": "425a8609",
   "metadata": {},
   "source": [
    "### revenue_by_company"
   ]
  },
  {
   "cell_type": "code",
   "execution_count": 19,
   "id": "4aa90a14",
   "metadata": {},
   "outputs": [
    {
     "name": "stdout",
     "output_type": "stream",
     "text": [
      "company_name\n",
      "TESLA        1.802176e+13\n",
      "APPLE        9.920401e+12\n",
      "AMAZON       7.827430e+12\n",
      "MICROSOFT    5.898410e+12\n",
      "GOOGLE       2.362466e+12\n",
      "Name: Total, dtype: float64\n"
     ]
    }
   ],
   "source": [
    "df['Total']= df['Volume'] * df['Open']\n",
    "revenue_by_company= df.groupby('company_name')['Total'].sum().sort_values(ascending=False)\n",
    "print(revenue_by_company)"
   ]
  },
  {
   "cell_type": "markdown",
   "id": "e971879b",
   "metadata": {},
   "source": [
    "### market_cap_by_company"
   ]
  },
  {
   "cell_type": "code",
   "execution_count": 20,
   "id": "eda74118",
   "metadata": {
    "scrolled": true
   },
   "outputs": [
    {
     "name": "stdout",
     "output_type": "stream",
     "text": [
      "company_name\n",
      "TESLA        1.466785e+16\n",
      "APPLE        7.653308e+15\n",
      "AMAZON       5.908205e+15\n",
      "MICROSOFT    4.413184e+15\n",
      "GOOGLE       1.823495e+15\n",
      "dtype: float64\n"
     ]
    }
   ],
   "source": [
    "market_cap_by_company=df.groupby('company_name')['Volume'].sum() * df.groupby(\"company_name\")['Adj Close'].sum()\n",
    "market_cap_by_company= market_cap_by_company.sort_values(ascending=False)\n",
    "print(market_cap_by_company)"
   ]
  },
  {
   "cell_type": "markdown",
   "id": "c7b07d5a",
   "metadata": {},
   "source": [
    "### earning_per_share"
   ]
  },
  {
   "cell_type": "code",
   "execution_count": 21,
   "id": "4358cb06",
   "metadata": {
    "scrolled": true
   },
   "outputs": [
    {
     "data": {
      "text/plain": [
       "company_name\n",
       "TESLA        0.173748\n",
       "APPLE        0.076203\n",
       "MICROSOFT    0.038862\n",
       "GOOGLE       0.010190\n",
       "AMAZON      -0.150740\n",
       "dtype: float64"
      ]
     },
     "execution_count": 21,
     "metadata": {},
     "output_type": "execute_result"
    }
   ],
   "source": [
    "df['total']= (df['Close']- df['Open']) * df['Volume']\n",
    "df.head()\n",
    "\n",
    "per_share= df.groupby(\"company_name\")['total'].sum() / df.groupby(\"company_name\")['Volume'].sum()\n",
    "per_share= per_share.sort_values(ascending=False)\n",
    "per_share"
   ]
  },
  {
   "cell_type": "markdown",
   "id": "323e7e9e",
   "metadata": {},
   "source": [
    "### percentage change in stock prices for each company"
   ]
  },
  {
   "cell_type": "code",
   "execution_count": 22,
   "id": "f21e19f5",
   "metadata": {},
   "outputs": [
    {
     "name": "stdout",
     "output_type": "stream",
     "text": [
      "df_TESLA\n",
      "                  Open        High         Low       Close   Adj Close  \\\n",
      "Date                                                                     \n",
      "2020-07-29  100.066666  102.320663   99.133331   99.940666   99.940666   \n",
      "2020-07-30   99.199997  100.882668   98.066666   99.166000   99.166000   \n",
      "2020-07-31  101.000000  101.136665   94.732002   95.384003   95.384003   \n",
      "2020-08-03   96.613335  100.653999   96.292000   99.000000   99.000000   \n",
      "2020-08-04   99.667336  101.827332   97.466667   99.133331   99.133331   \n",
      "...                ...         ...         ...         ...         ...   \n",
      "2023-07-24  255.850006  269.850006  254.119995  269.059998  269.059998   \n",
      "2023-07-25  272.380005  272.899994  265.000000  265.279999  265.279999   \n",
      "2023-07-26  263.250000  268.040009  261.750000  264.350006  264.350006   \n",
      "2023-07-27  268.309998  269.130005  255.300003  255.710007  255.710007   \n",
      "2023-07-28  259.859985  267.250000  258.230011  266.440002  266.440002   \n",
      "\n",
      "               Volume company_name         Total         total  \n",
      "Date                                                            \n",
      "2020-07-29  141403500        TESLA  1.414978e+10 -1.781676e+07  \n",
      "2020-07-30  114315000        TESLA  1.134005e+10 -3.886319e+06  \n",
      "2020-07-31  183123000        TESLA  1.849542e+10 -1.028418e+09  \n",
      "2020-08-03  132139500        TESLA  1.276644e+10  3.153728e+08  \n",
      "2020-08-04  126225000        TESLA  1.258051e+10 -6.740468e+07  \n",
      "...               ...          ...           ...           ...  \n",
      "2023-07-24  136508500        TESLA  3.492570e+10  1.803276e+09  \n",
      "2023-07-25  112757300        TESLA  3.071283e+10 -8.005775e+08  \n",
      "2023-07-26   95856200        TESLA  2.523414e+10  1.054424e+08  \n",
      "2023-07-27  103697300        TESLA  2.782302e+10 -1.306585e+09  \n",
      "2023-07-28  111149300        TESLA  2.888326e+10  7.313643e+08  \n",
      "\n",
      "[755 rows x 9 columns]\n",
      "change in stock price in company df_TESLA is 159.79331970214844\n",
      "df_APPLE\n",
      "                  Open        High         Low       Close   Adj Close  \\\n",
      "Date                                                                     \n",
      "2020-07-29   93.750000   95.230003   93.712502   95.040001   93.310425   \n",
      "2020-07-30   94.187500   96.297501   93.767502   96.190002   94.439507   \n",
      "2020-07-31  102.885002  106.415001  100.824997  106.260002  104.326256   \n",
      "2020-08-03  108.199997  111.637497  107.892502  108.937500  106.955017   \n",
      "2020-08-04  109.132500  110.790001  108.387497  109.665001  107.669281   \n",
      "...                ...         ...         ...         ...         ...   \n",
      "2023-07-24  193.410004  194.910004  192.250000  192.750000  192.750000   \n",
      "2023-07-25  193.330002  194.440002  192.919998  193.619995  193.619995   \n",
      "2023-07-26  193.669998  195.639999  193.320007  194.500000  194.500000   \n",
      "2023-07-27  196.020004  197.199997  192.550003  193.220001  193.220001   \n",
      "2023-07-28  194.669998  196.630005  194.139999  195.830002  195.830002   \n",
      "\n",
      "               Volume company_name         Total         total  \n",
      "Date                                                            \n",
      "2020-07-29   90329200        APPLE  8.468362e+09  1.165248e+08  \n",
      "2020-07-30  158130000        APPLE  1.489387e+10  3.166557e+08  \n",
      "2020-07-31  374336800        APPLE  3.851364e+10  1.263387e+09  \n",
      "2020-08-03  308151200        APPLE  3.334196e+10  2.272625e+08  \n",
      "2020-08-04  173071600        APPLE  1.888774e+10  9.216084e+07  \n",
      "...               ...          ...           ...           ...  \n",
      "2023-07-24   45377800        APPLE  8.776520e+09 -2.994951e+07  \n",
      "2023-07-25   37283200        APPLE  7.207961e+09  1.081188e+07  \n",
      "2023-07-26   47471900        APPLE  9.193883e+09  3.940176e+07  \n",
      "2023-07-27   47460200        APPLE  9.303149e+09 -1.328887e+08  \n",
      "2023-07-28   48254600        APPLE  9.393723e+09  5.597551e+07  \n",
      "\n",
      "[755 rows x 9 columns]\n",
      "change in stock price in company df_APPLE is 100.91999816894531\n",
      "df_MICROSOFT\n",
      "                  Open        High         Low       Close   Adj Close  \\\n",
      "Date                                                                     \n",
      "2020-07-29  202.500000  204.649994  202.009995  204.059998  198.547012   \n",
      "2020-07-30  201.000000  204.460007  199.570007  203.899994  198.391342   \n",
      "2020-07-31  204.399994  205.100006  199.009995  205.009995  199.471329   \n",
      "2020-08-03  211.520004  217.639999  210.440002  216.539993  210.689819   \n",
      "2020-08-04  214.169998  214.770004  210.309998  213.289993  207.527634   \n",
      "...                ...         ...         ...         ...         ...   \n",
      "2023-07-24  345.850006  346.920013  342.309998  345.109985  345.109985   \n",
      "2023-07-25  347.109985  351.890015  345.070007  350.980011  350.980011   \n",
      "2023-07-26  341.440002  344.670013  333.109985  337.769989  337.769989   \n",
      "2023-07-27  340.480011  341.329987  329.049988  330.720001  330.720001   \n",
      "2023-07-28  333.670013  340.010010  333.170013  338.369995  338.369995   \n",
      "\n",
      "              Volume company_name         Total         total  \n",
      "Date                                                           \n",
      "2020-07-29  19632600    MICROSOFT  3.975602e+09  3.062681e+07  \n",
      "2020-07-30  25079600    MICROSOFT  5.041000e+09  7.273069e+07  \n",
      "2020-07-31  51044000    MICROSOFT  1.043339e+10  3.113687e+07  \n",
      "2020-08-03  78983000    MICROSOFT  1.670648e+10  3.964938e+08  \n",
      "2020-08-04  49280100    MICROSOFT  1.055432e+10 -4.336673e+07  \n",
      "...              ...          ...           ...           ...  \n",
      "2023-07-24  26678100    MICROSOFT  9.226621e+09 -1.974235e+07  \n",
      "2023-07-25  41637700    MICROSOFT  1.445286e+10  1.611390e+08  \n",
      "2023-07-26  58383700    MICROSOFT  1.993453e+10 -2.142690e+08  \n",
      "2023-07-27  39635300    MICROSOFT  1.349503e+10 -3.868409e+08  \n",
      "2023-07-28  28463000    MICROSOFT  9.497250e+09  1.337756e+08  \n",
      "\n",
      "[755 rows x 9 columns]\n",
      "change in stock price in company df_MICROSOFT is 131.17001342773438\n",
      "df_AMAZON\n",
      "                  Open        High         Low       Close   Adj Close  \\\n",
      "Date                                                                     \n",
      "2020-07-29  151.549500  151.957993  149.838501  151.676498  151.676498   \n",
      "2020-07-30  150.699997  154.600006  150.250000  152.593994  152.593994   \n",
      "2020-07-31  162.199997  162.341003  157.550003  158.233994  158.233994   \n",
      "2020-08-03  159.025497  159.199997  155.199997  155.594498  155.594498   \n",
      "2020-08-04  155.060501  158.362000  155.060501  156.941498  156.941498   \n",
      "...                ...         ...         ...         ...         ...   \n",
      "2023-07-24  130.309998  131.660004  128.350006  128.800003  128.800003   \n",
      "2023-07-25  129.309998  129.580002  128.529999  129.130005  129.130005   \n",
      "2023-07-26  126.510002  129.080002  126.110001  128.149994  128.149994   \n",
      "2023-07-27  131.000000  132.630005  127.790001  128.250000  128.250000   \n",
      "2023-07-28  129.690002  133.009995  129.330002  132.210007  132.210007   \n",
      "\n",
      "               Volume company_name         Total         total  \n",
      "Date                                                            \n",
      "2020-07-29   59482000       AMAZON  9.014467e+09  7.554149e+06  \n",
      "2020-07-30  122566000       AMAZON  1.847070e+10  2.321397e+08  \n",
      "2020-07-31  161710000       AMAZON  2.622936e+10 -6.413424e+08  \n",
      "2020-08-03  101494000       AMAZON  1.614013e+10 -3.482259e+08  \n",
      "2020-08-04   93886000       AMAZON  1.455801e+10  1.765993e+08  \n",
      "...               ...          ...           ...           ...  \n",
      "2023-07-24   45591100       AMAZON  5.940976e+09 -6.884231e+07  \n",
      "2023-07-25   39236700       AMAZON  5.073698e+09 -7.062319e+06  \n",
      "2023-07-26   53910100       AMAZON  6.820167e+09  8.841212e+07  \n",
      "2023-07-27   52610700       AMAZON  6.892002e+09 -1.446794e+08  \n",
      "2023-07-28   46234700       AMAZON  5.996178e+09  1.165116e+08  \n",
      "\n",
      "[755 rows x 9 columns]\n",
      "change in stock price in company df_AMAZON is -21.8594970703125\n",
      "df_GOOGLE\n",
      "                  Open        High         Low       Close   Adj Close  \\\n",
      "Date                                                                     \n",
      "2020-07-29   75.316002   76.562599   75.066498   76.100998   76.100998   \n",
      "2020-07-30   74.849998   76.893501   74.611000   76.572502   76.572502   \n",
      "2020-07-31   75.250504   75.447502   72.701500   74.148003   74.148003   \n",
      "2020-08-03   74.332001   74.523499   73.281998   73.722504   73.722504   \n",
      "2020-08-04   73.828499   74.278000   72.932503   73.248497   73.248497   \n",
      "...                ...         ...         ...         ...         ...   \n",
      "2023-07-24  121.926003  123.349998  121.379997  121.879997  121.879997   \n",
      "2023-07-25  121.879997  123.690002  121.529999  122.790001  122.790001   \n",
      "2023-07-26  130.360001  131.369995  128.710007  129.660004  129.660004   \n",
      "2023-07-27  131.800003  133.600006  129.179993  129.869995  129.869995   \n",
      "2023-07-28  130.970001  134.070007  130.919998  133.009995  133.009995   \n",
      "\n",
      "              Volume company_name         Total         total  \n",
      "Date                                                           \n",
      "2020-07-29  22130000       GOOGLE  1.666743e+09  1.737196e+07  \n",
      "2020-07-30  33428000       GOOGLE  2.502086e+09  5.757985e+07  \n",
      "2020-07-31  68798000       GOOGLE  5.177084e+09 -7.584986e+07  \n",
      "2020-08-03  46604000       GOOGLE  3.464169e+09 -2.840500e+07  \n",
      "2020-08-04  38070000       GOOGLE  2.810651e+09 -2.208067e+07  \n",
      "...              ...          ...           ...           ...  \n",
      "2023-07-24  22276100       GOOGLE  2.716036e+09 -1.024818e+06  \n",
      "2023-07-25  31820800       GOOGLE  3.878319e+09  2.895704e+07  \n",
      "2023-07-26  46216900       GOOGLE  6.024835e+09 -3.235169e+07  \n",
      "2023-07-27  35931600       GOOGLE  4.735785e+09 -6.934827e+07  \n",
      "2023-07-28  26959800       GOOGLE  3.530925e+09  5.499781e+07  \n",
      "\n",
      "[755 rows x 9 columns]\n",
      "change in stock price in company df_GOOGLE is 55.65399932861328\n"
     ]
    }
   ],
   "source": [
    "list1= [\"TESLA\",\"APPLE\",\"MICROSOFT\",\"AMAZON\",\"GOOGLE\"]\n",
    "for company in list1:\n",
    "    df_name= f\"df_{company}\"\n",
    "    df_new= df[df[\"company_name\"]== company]\n",
    "    \n",
    "    globals()[df_name]= df_new\n",
    "    \n",
    "    print(df_name)\n",
    "    print(df_new)\n",
    "    print(f\"change in stock price in company {df_name} is {df_new['Open'].iloc[-1] - df_new['Open'].iloc[0]}\" )"
   ]
  },
  {
   "cell_type": "code",
   "execution_count": null,
   "id": "e77244f4",
   "metadata": {},
   "outputs": [],
   "source": []
  }
 ],
 "metadata": {
  "kernelspec": {
   "display_name": "Python 3 (ipykernel)",
   "language": "python",
   "name": "python3"
  },
  "language_info": {
   "codemirror_mode": {
    "name": "ipython",
    "version": 3
   },
   "file_extension": ".py",
   "mimetype": "text/x-python",
   "name": "python",
   "nbconvert_exporter": "python",
   "pygments_lexer": "ipython3",
   "version": "3.9.13"
  }
 },
 "nbformat": 4,
 "nbformat_minor": 5
}
